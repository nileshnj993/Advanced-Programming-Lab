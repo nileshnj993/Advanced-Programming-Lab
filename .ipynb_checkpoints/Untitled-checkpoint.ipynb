{
 "cells": [
  {
   "cell_type": "code",
   "execution_count": null,
   "metadata": {},
   "outputs": [],
   "source": [
    "# LAB 3"
   ]
  },
  {
   "cell_type": "code",
   "execution_count": null,
   "metadata": {},
   "outputs": [],
   "source": [
    "# QUESTION 1 - Multiply all numbers in a list"
   ]
  },
  {
   "cell_type": "code",
   "execution_count": 7,
   "metadata": {},
   "outputs": [
    {
     "name": "stdout",
     "output_type": "stream",
     "text": [
      "OUTPUT\n",
      "------\n",
      "Nilesh Jain - 180953226\n",
      "Enter size of list:5\n",
      "Enter value:2\n",
      "Enter value:5\n",
      "Enter value:-2\n",
      "Enter value:3\n",
      "Enter value:6\n",
      "The product of the numbers in the list is: -360\n"
     ]
    }
   ],
   "source": [
    "def mulList(numList):\n",
    "    if(len(numList)==0):\n",
    "        return None\n",
    "    product = 1\n",
    "    for num in numList:\n",
    "        product*=num\n",
    "    return product\n",
    "\n",
    "print('OUTPUT')\n",
    "print('------')\n",
    "print('Nilesh Jain - 180953226')\n",
    "\n",
    "n = int(input('Enter size of list:'))\n",
    "numList = []\n",
    "for i in range(n):\n",
    "    val = int(input('Enter value:'))\n",
    "    numList.append(val)\n",
    "    \n",
    "result = mulList(numList)\n",
    "if(result==None):\n",
    "    print('Invalid input!')\n",
    "else:\n",
    "    print('The product of the numbers in the list is:', result)"
   ]
  },
  {
   "cell_type": "code",
   "execution_count": null,
   "metadata": {},
   "outputs": [],
   "source": [
    "# QUESTION 2 - Return new list with unique elements of input list"
   ]
  },
  {
   "cell_type": "code",
   "execution_count": 12,
   "metadata": {},
   "outputs": [
    {
     "name": "stdout",
     "output_type": "stream",
     "text": [
      "OUTPUT\n",
      "------\n",
      "Nilesh Jain - 180953226\n",
      "Enter size of list:5\n",
      "Enter value:1\n",
      "Enter value:1\n",
      "Enter value:2\n",
      "Enter value:2\n",
      "Enter value:3\n",
      "The unique elements of the list are: 1\n",
      "2\n",
      "3\n"
     ]
    }
   ],
   "source": [
    "def uniqueList(numList):\n",
    "    if(len(numList)==0):\n",
    "        return None\n",
    "    unique = set(numList)\n",
    "    return list(unique)\n",
    "\n",
    "print('OUTPUT')\n",
    "print('------')\n",
    "print('Nilesh Jain - 180953226')\n",
    "\n",
    "n = int(input('Enter size of list:'))\n",
    "numList = []\n",
    "for i in range(n):\n",
    "    val = int(input('Enter value:'))\n",
    "    numList.append(val)\n",
    "\n",
    "result = uniqueList(numList)\n",
    "if(result==None):\n",
    "    print('Invalid input!')\n",
    "else:\n",
    "    print('The unique elements of the list are:', end = \" \")\n",
    "    for i in range(len(result)):\n",
    "        print(result[i], end=\" \")"
   ]
  },
  {
   "cell_type": "code",
   "execution_count": null,
   "metadata": {},
   "outputs": [],
   "source": []
  }
 ],
 "metadata": {
  "kernelspec": {
   "display_name": "Python 3.8.2 64-bit",
   "language": "python",
   "name": "python38264bitc9a4e4c5107c4b63976abe509df26b09"
  },
  "language_info": {
   "codemirror_mode": {
    "name": "ipython",
    "version": 3
   },
   "file_extension": ".py",
   "mimetype": "text/x-python",
   "name": "python",
   "nbconvert_exporter": "python",
   "pygments_lexer": "ipython3",
   "version": "3.8.5"
  }
 },
 "nbformat": 4,
 "nbformat_minor": 4
}
