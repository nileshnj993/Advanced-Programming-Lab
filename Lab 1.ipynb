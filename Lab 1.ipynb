{
 "cells": [
  {
   "cell_type": "code",
   "execution_count": null,
   "metadata": {},
   "outputs": [],
   "source": [
    "# LAB 1"
   ]
  },
  {
   "cell_type": "code",
   "execution_count": 8,
   "metadata": {},
   "outputs": [],
   "source": [
    "# QUESTION 1 \n",
    "# Given 2 lists of numbers, create a new list such that it contains odd numbers from list1 and even from list2"
   ]
  },
  {
   "cell_type": "code",
   "execution_count": 136,
   "metadata": {},
   "outputs": [
    {
     "name": "stdout",
     "output_type": "stream",
     "text": [
      "OUTPUT\n",
      "------\n",
      "Nilesh Jain - 180953226\n",
      "[1, 3, 5, 2, 4, 6, 8]\n"
     ]
    }
   ],
   "source": [
    "def genList(list1, list2):\n",
    "    list3 = []\n",
    "    for i in range(len(list1)):\n",
    "        if(list1[i]%2==1):\n",
    "            list3.append(list1[i])\n",
    "    for i in range(len(list2)):\n",
    "        if(list2[i]%2==0):\n",
    "            list3.append(list2[i])\n",
    "    return list3\n",
    "\n",
    "list1 = [1,2,3,4,5]\n",
    "list2 = [2,4,5,6,7,8]\n",
    "print('OUTPUT')\n",
    "print('------')\n",
    "print('Nilesh Jain - 180953226')\n",
    "print(genList(list1,list2))"
   ]
  },
  {
   "cell_type": "code",
   "execution_count": null,
   "metadata": {},
   "outputs": [],
   "source": [
    "# QUESTION 2\n",
    "# Write a python program to display the pattern"
   ]
  },
  {
   "cell_type": "code",
   "execution_count": 137,
   "metadata": {},
   "outputs": [
    {
     "name": "stdout",
     "output_type": "stream",
     "text": [
      "OUTPUT\n",
      "------\n",
      "Nilesh Jain - 180953226\n",
      "1\n",
      "2 3\n",
      "4 5 6\n",
      "7 8 9 10\n",
      "11 12 13 14 15\n"
     ]
    }
   ],
   "source": [
    "def genPattern(n):\n",
    "    count = 1\n",
    "    rows = 0\n",
    "    while(rows<n):\n",
    "        for i in range(n):\n",
    "            rows = rows+1\n",
    "            for j in range(i+1):\n",
    "                if(j==i):\n",
    "                    print(count,end = \"\\n\")\n",
    "                else:\n",
    "                    print(count,end = \" \")\n",
    "                count = count+1\n",
    "\n",
    "print('OUTPUT')\n",
    "print('------')\n",
    "print('Nilesh Jain - 180953226')\n",
    "genPattern(5)"
   ]
  },
  {
   "cell_type": "code",
   "execution_count": null,
   "metadata": {},
   "outputs": [],
   "source": [
    "# QUESTION 3\n",
    "# Write a program to read n strings, display those with odd length and count number of strings with same first and \n",
    "# last character, and length > 2"
   ]
  },
  {
   "cell_type": "code",
   "execution_count": 138,
   "metadata": {},
   "outputs": [
    {
     "name": "stdout",
     "output_type": "stream",
     "text": [
      "OUTPUT\n",
      "------\n",
      "Nilesh Jain - 180953226\n",
      "Strings with odd length - ['six', 'seven', 'odd', 'racecar']\n",
      "Number of strings with same starting and ending character - 2\n"
     ]
    }
   ],
   "source": [
    "def dispOdd(listStrings):\n",
    "    oddString = []\n",
    "    for string in listStrings:\n",
    "        if(len(string)%2==1):\n",
    "            oddString.append(string)\n",
    "    return oddString\n",
    "\n",
    "def sameString(listStrings):\n",
    "    count = 0\n",
    "    for string in listStrings:\n",
    "        if(len(string)>=2):\n",
    "            if(string[0]==string[len(string)-1]):\n",
    "                count = count+1\n",
    "    return count\n",
    "\n",
    "print('OUTPUT')\n",
    "print('------')\n",
    "print('Nilesh Jain - 180953226')\n",
    "strings = [\"test\", \"Nilesh\", \"six\", \"seven\", \"odd\", \"even\", \"racecar\"]\n",
    "print(\"Strings with odd length -\", dispOdd(strings))\n",
    "print(\"Number of strings with same starting and ending character -\", sameString(strings))"
   ]
  },
  {
   "cell_type": "code",
   "execution_count": null,
   "metadata": {},
   "outputs": [],
   "source": []
  },
  {
   "cell_type": "code",
   "execution_count": null,
   "metadata": {},
   "outputs": [],
   "source": [
    "# LAB 2"
   ]
  },
  {
   "cell_type": "code",
   "execution_count": null,
   "metadata": {},
   "outputs": [],
   "source": [
    "# QUESTION 1\n",
    "# Count the number of words in a given sentence using dictionaries"
   ]
  },
  {
   "cell_type": "code",
   "execution_count": 139,
   "metadata": {},
   "outputs": [
    {
     "name": "stdout",
     "output_type": "stream",
     "text": [
      "OUTPUT\n",
      "------\n",
      "Nilesh Jain - 180953226\n",
      "{'Hello': 2, 'there,': 1, 'this': 1, 'is': 1, 'Nilesh.': 1, 'World!': 1}\n",
      "The total number of words are: 7\n"
     ]
    }
   ],
   "source": [
    "def countWords(sentence):\n",
    "    dict = {}\n",
    "    words = sentence.split(\" \")\n",
    "    count = 0\n",
    "    for word in words:\n",
    "        dict[word] = 0\n",
    "    for word in words:\n",
    "        dict[word] += 1\n",
    "        count = count+1\n",
    "    print(dict)\n",
    "    return count\n",
    "\n",
    "print('OUTPUT')\n",
    "print('------')\n",
    "print('Nilesh Jain - 180953226')\n",
    "print(\"The total number of words are:\",countWords(\"Hello there, this is Nilesh. Hello World!\"))"
   ]
  },
  {
   "cell_type": "code",
   "execution_count": null,
   "metadata": {},
   "outputs": [],
   "source": [
    "# QUESTION 2\n",
    "# Write a program to read the order of 2 matrices, store nonzero values, add and display resultant matrix"
   ]
  },
  {
   "cell_type": "code",
   "execution_count": 140,
   "metadata": {},
   "outputs": [
    {
     "name": "stdout",
     "output_type": "stream",
     "text": [
      "OUTPUT\n",
      "------\n",
      "Nilesh Jain - 180953226\n",
      "Enter number of rows in matrix 1:2\n",
      "Enter number of columns in matrix 1:3\n",
      "Enter number of rows in matrix 2:2\n",
      "Enter number of columns in matrix 2:3\n",
      "Enter non zero value:1\n",
      "Enter non zero value:2\n",
      "Enter non zero value:3\n",
      "Enter non zero value:4\n",
      "Enter non zero value:5\n",
      "Enter non zero value:6\n",
      "Enter non zero value:1\n",
      "Enter non zero value:2\n",
      "Enter non zero value:3\n",
      "Enter non zero value:4\n",
      "Enter non zero value:5\n",
      "Enter non zero value:6\n",
      "\n",
      "\n",
      "2 4 6\n",
      "8 10 12\n"
     ]
    }
   ],
   "source": [
    "def addMatrix(dict1, dict2, rows,cols):\n",
    "    sumMatrix = []\n",
    "    for i in range(rows):\n",
    "        sumRow = []\n",
    "        for j in range(cols):\n",
    "            sumRow.append(dict1[i][j]+dict2[i][j])\n",
    "        sumMatrix.append(sumRow)   \n",
    "    return sumMatrix\n",
    "\n",
    "print('OUTPUT')\n",
    "print('------')\n",
    "print('Nilesh Jain - 180953226')\n",
    "m1 = int(input('Enter number of rows in matrix 1:'))\n",
    "n1 = int(input('Enter number of columns in matrix 1:'))\n",
    "m2 = int(input('Enter number of rows in matrix 2:'))\n",
    "n2 = int(input('Enter number of columns in matrix 2:'))\n",
    "dict1 = {}\n",
    "dict2 = {}\n",
    "if(m1!=m2 or n1!=n2):\n",
    "    print('Invalid. Enter matrices of same dimension!')\n",
    "else:\n",
    "    for i in range(m1):\n",
    "        row = []\n",
    "        for j in range(n1):\n",
    "            val = int(input('Enter non zero value:'))\n",
    "            row.append(val)\n",
    "        dict1[i] = row\n",
    "       \n",
    "    for i in range(m2):\n",
    "        row = []\n",
    "        for j in range(n2):\n",
    "            val = int(input('Enter non zero value:'))\n",
    "            row.append(val)\n",
    "        dict2[i] = row\n",
    "      \n",
    "    sumMatrix = addMatrix(dict1,dict2,m1,n1)\n",
    "    print(\"\\n\")\n",
    "    for i in range(m1):\n",
    "        for j in range(n1):\n",
    "            if(j==n1-1):\n",
    "                print(sumMatrix[i][j],end=\"\\n\")\n",
    "            else:\n",
    "                print(sumMatrix[i][j], end=\" \")"
   ]
  },
  {
   "cell_type": "code",
   "execution_count": null,
   "metadata": {},
   "outputs": [],
   "source": [
    "# QUESTION 3"
   ]
  },
  {
   "cell_type": "code",
   "execution_count": 135,
   "metadata": {},
   "outputs": [
    {
     "name": "stdout",
     "output_type": "stream",
     "text": [
      "OUTPUT\n",
      "------\n",
      "Nilesh Jain - 180953226\n",
      "\n",
      "\n",
      "Enter number of values:6\n",
      "Enter value:1\n",
      "Enter value:2\n",
      "Enter value:a\n",
      "Enter value:b\n",
      "Enter value:$&^$\n",
      "Enter value:$123ab\n",
      "\n",
      "\n",
      "Average is: 1.5\n",
      "Concatenated string is: ab$&^$$123ab\n",
      "\n",
      "\n",
      "Enter value to be searched:a\n",
      "Element a found at key 10\n",
      "Elements with only special characters:\n",
      "$&^$\n"
     ]
    }
   ],
   "source": [
    "import random\n",
    "\n",
    "print('OUTPUT')\n",
    "print('------')\n",
    "print('Nilesh Jain - 180953226')\n",
    "print(\"\\n\")\n",
    "dict = {}\n",
    "n = int(input(\"Enter number of values:\"))\n",
    "for i in range(n):\n",
    "    dict[random.randint(0,100)] = input(\"Enter value:\")\n",
    "\n",
    "sum=0\n",
    "count=0\n",
    "string = \"\"\n",
    "for key,value in dict.items():\n",
    "    if(value.isdigit()):\n",
    "        sum+=int(value)\n",
    "        count+=1\n",
    "    else:\n",
    "        string+=value\n",
    "\n",
    "print(\"\\n\")\n",
    "print('Average is:', sum/count)\n",
    "print('Concatenated string is:', string)\n",
    "\n",
    "found = False\n",
    "print(\"\\n\")\n",
    "search = input('Enter value to be searched:')\n",
    "if(search.isdigit()):\n",
    "    print('Please enter string')\n",
    "else:\n",
    "    for key,value in dict.items():\n",
    "        if(value==search):\n",
    "            found=True\n",
    "            print('Element', value, \"found at key\", key)\n",
    "    if(found==False):\n",
    "        print(\"Element not found!\")\n",
    "    \n",
    "print('Elements with only special characters:')\n",
    "for key, value in dict.items():\n",
    "    special = True\n",
    "    for i in range(len(value)):\n",
    "        if(value[i].isalpha() or value[i].isdigit()):\n",
    "            special = False\n",
    "            break\n",
    "    if(special==True):\n",
    "        print(value)\n",
    "\n",
    "        "
   ]
  }
 ],
 "metadata": {
  "kernelspec": {
   "display_name": "Python 3.8.2 64-bit",
   "language": "python",
   "name": "python38264bitc9a4e4c5107c4b63976abe509df26b09"
  },
  "language_info": {
   "codemirror_mode": {
    "name": "ipython",
    "version": 3
   },
   "file_extension": ".py",
   "mimetype": "text/x-python",
   "name": "python",
   "nbconvert_exporter": "python",
   "pygments_lexer": "ipython3",
   "version": "3.8.5"
  }
 },
 "nbformat": 4,
 "nbformat_minor": 4
}
